{
 "cells": [
  {
   "cell_type": "code",
   "execution_count": 95,
   "metadata": {},
   "outputs": [
    {
     "name": "stdout",
     "output_type": "stream",
     "text": [
      "Mean of X1=  40.371115600000024\n",
      "Mean of X2=  97.83115999999994\n",
      "Mean of X3=  150.10245333333322\n",
      "Mean of X4=  234.0766333333334\n",
      "Mean of X5=  270.21036666666674\n",
      "***************************************\n",
      "Variance of X1=  317.1666478839704\n",
      "Variance of X2=  313.77130760642143\n",
      "Variance of X3=  284.50412926537336\n",
      "Variance of X4=  316.84342842697873\n",
      "Variance of X5=  278.6509614035675\n",
      "***************************************\n"
     ]
    },
    {
     "data": {
      "image/png": "[encoded data removed]",
      "text/plain": [
       "<Figure size 432x288 with 1 Axes>"
      ]
     },
     "metadata": {},
     "output_type": "display_data"
    }
   ],
   "source": [
    "# Task 1 -- Basic Statistical Analysis\n",
    "\n",
    "import numpy as np\n",
    "import matplotlib.pyplot as plt\n",
    "import pandas as pd\n",
    "import os\n",
    "from pathlib import Path\n",
    "import pylab as pl\n",
    "\n",
    "data_folder = Path(\"C:/Users/Kalyan/Desktop/NCSU/3rd Semester/IOT Analytics 592/Project2/data/\")\n",
    "file_to_open = data_folder / \"kghosh.csv\"\n",
    "\n",
    "\n",
    "class Basic_Statistical_Analysis:\n",
    "    \n",
    "    def __init__(self,file_to_open):\n",
    "        \n",
    "        self.file_to_open=file_to_open\n",
    "        \n",
    "    \n",
    "    def hist_mean_variance(self):\n",
    "        \n",
    "        data=pd.read_csv(file_to_open,skiprows=None,header=None)\n",
    "\n",
    "        df = pd.DataFrame(data)\n",
    "        \n",
    "        X1 = df.iloc[:,0]\n",
    "        X2 = df.iloc[:,1]\n",
    "        X3 = df.iloc[:,2]\n",
    "        X4 = df.iloc[:,3]\n",
    "        X5 = df.iloc[:,4]\n",
    "        \n",
    "        #plot histograms\n",
    "        \n",
    "        hist1 = X1.hist()\n",
    "        hist2 = X2.hist()\n",
    "        hist3 = X3.hist()\n",
    "        hist4 = X4.hist()\n",
    "        hist5 = X5.hist()\n",
    "        \n",
    "        #pl.suptitle(\"Histogram\")\n",
    "        \n",
    "        #1.1\n",
    "        #calculate the mean\n",
    "        \n",
    "        print (\"Mean of X1= \",X1.mean())\n",
    "        print (\"Mean of X2= \",X2.mean())\n",
    "        print (\"Mean of X3= \",X3.mean())\n",
    "        print (\"Mean of X4= \",X4.mean())\n",
    "        print (\"Mean of X5= \",X5.mean())\n",
    "        \n",
    "        #calculate the variance\n",
    "        print (\"***************************************\")\n",
    "        \n",
    "        print (\"Variance of X1= \",X1.var())\n",
    "        print (\"Variance of X2= \",X2.var())\n",
    "        print (\"Variance of X3= \",X3.var())\n",
    "        print (\"Variance of X4= \",X4.var())\n",
    "        print (\"Variance of X5= \",X5.var())\n",
    "        \n",
    "        print (\"***************************************\")\n",
    "        \n",
    "        #1.2\n",
    "        #create boxplots\n",
    "        X1=pd.DataFrame(X1)\n",
    "        X2=pd.DataFrame(X2)\n",
    "        X3=pd.DataFrame(X3)\n",
    "        X4=pd.DataFrame(X4)\n",
    "        X5=pd.DataFrame(X5)\n",
    "\n",
    "        pl.suptitle(\"Box Plot of X1\")\n",
    "        pd.DataFrame(X2).boxplot()\n",
    "       \n",
    "\n",
    "obj=Basic_Statistical_Analysis(file_to_open)\n",
    "obj.hist_mean_variance()\n",
    "        \n",
    "        "
   ]
  },
  {
   "cell_type": "code",
   "execution_count": null,
   "metadata": {},
   "outputs": [],
   "source": []
  },
  {
   "cell_type": "code",
   "execution_count": null,
   "metadata": {},
   "outputs": [],
   "source": []
  }
 ],
 "metadata": {
  "kernelspec": {
   "display_name": "Python 3",
   "language": "python",
   "name": "python3"
  },
  "language_info": {
   "codemirror_mode": {
    "name": "ipython",
    "version": 3
   },
   "file_extension": ".py",
   "mimetype": "text/x-python",
   "name": "python",
   "nbconvert_exporter": "python",
   "pygments_lexer": "ipython3",
   "version": "3.6.5"
  }
 },
 "nbformat": 4,
 "nbformat_minor": 2
}
